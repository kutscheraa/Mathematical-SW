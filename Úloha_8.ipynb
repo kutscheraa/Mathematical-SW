{
 "cells": [
  {
   "attachments": {},
   "cell_type": "markdown",
   "metadata": {},
   "source": [
    "# 8. Derivace funkce jedné proměnné"
   ]
  },
  {
   "cell_type": "code",
   "execution_count": 8,
   "metadata": {},
   "outputs": [
    {
     "name": "stdout",
     "output_type": "stream",
     "text": [
      "Dopředná derivace - bez adaptabilního kroku: 4.100000000000001 s adaptabilním krokem 4.000001525855623\n",
      "Zpětná derivace - bez adaptabilního kroku: 3.9000000000000057 s adaptabilním krokem 4.000001525855623\n",
      "Centrální derivace - bez adaptabilního kroku: 4.0000000000000036 s adaptabilním krokem 4.000001525855623\n"
     ]
    }
   ],
   "source": [
    "def forward_derivate(f, x0, h):\n",
    "    return (f(x0+h) - f(x0))/h\n",
    "\n",
    "def backward_derivate(f, x0, h):\n",
    "    return (f(x0) - f(x0-h))/h\n",
    "\n",
    "def central_derivate(f, x0, h):\n",
    "    return (f(x0+h) - f(x0-h))/(2*h)\n",
    "\n",
    "def adaptive_derivative(f, x0, h, threshold=1e-6):\n",
    "    # Základní aproximace\n",
    "    derivative = (f(x0 + h) - f(x0)) / h\n",
    "\n",
    "    while True:\n",
    "        # Snížení kroku\n",
    "        h /= 2\n",
    "\n",
    "        # Opakování výpočtu\n",
    "        new_derivative = (f(x0 + h) - f(x0)) / h\n",
    "\n",
    "        # Kontrola jestli rozdíl je hodnotou pod tresholdem\n",
    "        if abs(new_derivative - derivative) < threshold:\n",
    "            break\n",
    "\n",
    "        derivative = new_derivative\n",
    "\n",
    "    return derivative\n",
    "\n",
    "f = lambda x: x**2+3\n",
    "x0 = 2\n",
    "h = 0.1\n",
    "\n",
    "print(f\"Dopředná derivace - bez adaptabilního kroku: {forward_derivate(f, x0, h)} s adaptabilním krokem {adaptive_derivative(f, x0, h)}\")\n",
    "print(f\"Zpětná derivace - bez adaptabilního kroku: {backward_derivate(f, x0, h)} s adaptabilním krokem {adaptive_derivative(f, x0, h)}\")\n",
    "print(f\"Centrální derivace - bez adaptabilního kroku: {central_derivate(f, x0, h)} s adaptabilním krokem {adaptive_derivative(f, x0, h)}\")"
   ]
  }
 ],
 "metadata": {
  "kernelspec": {
   "display_name": "Python 3",
   "language": "python",
   "name": "python3"
  },
  "language_info": {
   "codemirror_mode": {
    "name": "ipython",
    "version": 3
   },
   "file_extension": ".py",
   "mimetype": "text/x-python",
   "name": "python",
   "nbconvert_exporter": "python",
   "pygments_lexer": "ipython3",
   "version": "3.11.3"
  },
  "orig_nbformat": 4
 },
 "nbformat": 4,
 "nbformat_minor": 2
}
