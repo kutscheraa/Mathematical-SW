{
 "cells": [
  {
   "attachments": {},
   "cell_type": "markdown",
   "metadata": {},
   "source": [
    "# 1. Knihovny a moduly pro matematické výpočty"
   ]
  },
  {
   "attachments": {},
   "cell_type": "markdown",
   "metadata": {},
   "source": [
    "## Průměr"
   ]
  },
  {
   "cell_type": "code",
   "execution_count": 1,
   "metadata": {},
   "outputs": [
    {
     "name": "stdout",
     "output_type": "stream",
     "text": [
      "Python: průměr: 5000000.0 Čas vykonání: 0.4026 s\n",
      "Numpy: průměr: 5000000.0 Čas vykonání: 0.0157 s\n",
      "Rozdíl: 0.3869 s\n"
     ]
    }
   ],
   "source": [
    "import numpy as np\n",
    "import time\n",
    "\n",
    "def prumer_python(cisla):\n",
    "    return sum(cisla) / len(cisla)\n",
    "\n",
    "def prumer_numpy(cisla):\n",
    "    return np.mean(cisla)\n",
    "\n",
    "cisla_python = list(range(1, 10000000))\n",
    "cisla_np = np.array(range(1, 10000000))\n",
    "\n",
    "pocatecni_cas = time.time()\n",
    "vysledek_python = prumer_python(cisla_python)\n",
    "konecny_cas = time.time()\n",
    "cas_vypoctu_python = round(konecny_cas - pocatecni_cas, 4)\n",
    "print(f\"Python: průměr: {vysledek_python} Čas vykonání: {cas_vypoctu_python} s\")\n",
    "\n",
    "pocatecni_cas = time.time()\n",
    "vysledek_numpy = prumer_numpy(cisla_np)\n",
    "konecny_cas = time.time()\n",
    "cas_vypoctu_numpy = round(konecny_cas - pocatecni_cas, 4)\n",
    "print(f\"Numpy: průměr: {vysledek_numpy} Čas vykonání: {cas_vypoctu_numpy} s\")\n",
    "\n",
    "print(f\"Rozdíl: {round(abs(cas_vypoctu_numpy - cas_vypoctu_python), 4)} s\")"
   ]
  },
  {
   "attachments": {},
   "cell_type": "markdown",
   "metadata": {},
   "source": [
    "## Třídění"
   ]
  },
  {
   "cell_type": "code",
   "execution_count": 2,
   "metadata": {},
   "outputs": [
    {
     "name": "stdout",
     "output_type": "stream",
     "text": [
      "Python: Čas vykonání: 0.8618 s\n",
      "Numpy: Čas vykonání: 0.1121 s\n",
      "Rozdíl: 0.7497 s\n"
     ]
    }
   ],
   "source": [
    "import numpy as np\n",
    "import time\n",
    "from random import random\n",
    "\n",
    "def trideni_python(cisla):\n",
    "    return sorted(cisla)\n",
    "\n",
    "def trideni_numpy(cisla):\n",
    "    return np.sort(cisla)\n",
    "\n",
    "size = 1000000\n",
    "cisla_np = np.random.rand(size)\n",
    "cisla_python = list(cisla_np)\n",
    "\n",
    "pocatecni_cas = time.time()\n",
    "vysledek_python = trideni_python(cisla_python)\n",
    "konecny_cas = time.time()\n",
    "cas_vypoctu_python = round(konecny_cas - pocatecni_cas, 4)\n",
    "print(f\"Python: Čas vykonání: {cas_vypoctu_python} s\")\n",
    "\n",
    "pocatecni_cas = time.time()\n",
    "vysledek_numpy = trideni_numpy(cisla_np)\n",
    "konecny_cas = time.time()\n",
    "cas_vypoctu_numpy = round(konecny_cas - pocatecni_cas, 4)\n",
    "print(f\"Numpy: Čas vykonání: {cas_vypoctu_numpy} s\")\n",
    "\n",
    "print(f\"Rozdíl: {round(abs(cas_vypoctu_numpy - cas_vypoctu_python), 4)} s\")"
   ]
  },
  {
   "attachments": {},
   "cell_type": "markdown",
   "metadata": {},
   "source": [
    "## Maximum"
   ]
  },
  {
   "cell_type": "code",
   "execution_count": 3,
   "metadata": {},
   "outputs": [
    {
     "name": "stdout",
     "output_type": "stream",
     "text": [
      "Python: max: 0.9999999630511399 Čas vykonání: 0.2847 s\n",
      "Numpy: max: 0.9999999630511399 Čas vykonání: 0.0059 s\n",
      "Rozdíl: 0.2788 s\n"
     ]
    }
   ],
   "source": [
    "import numpy as np\n",
    "import time\n",
    "\n",
    "def max_python(cisla):\n",
    "    return max(cisla)\n",
    "\n",
    "def max_numpy(cisla):\n",
    "    return np.max(cisla)\n",
    "\n",
    "cisla_np = np.random.rand(10000000)\n",
    "cisla_py = list(cisla_np)\n",
    "\n",
    "pocatecni_cas = time.time()\n",
    "vysledek_python = max_python(cisla_py)\n",
    "konecny_cas = time.time()\n",
    "cas_vypoctu_python = round(konecny_cas - pocatecni_cas, 4)\n",
    "print(f\"Python: max: {vysledek_python} Čas vykonání: {cas_vypoctu_python} s\")\n",
    "\n",
    "pocatecni_cas = time.time()\n",
    "vysledek_numpy = max_numpy(cisla_np)\n",
    "konecny_cas = time.time()\n",
    "cas_vypoctu_numpy = round(konecny_cas - pocatecni_cas, 4)\n",
    "print(f\"Numpy: max: {vysledek_numpy} Čas vykonání: {cas_vypoctu_numpy} s\")\n",
    "\n",
    "print(f\"Rozdíl: {round(abs(cas_vypoctu_numpy - cas_vypoctu_python), 4)} s\")"
   ]
  },
  {
   "attachments": {},
   "cell_type": "markdown",
   "metadata": {},
   "source": [
    "## Součet"
   ]
  },
  {
   "cell_type": "code",
   "execution_count": 5,
   "metadata": {},
   "outputs": [
    {
     "name": "stdout",
     "output_type": "stream",
     "text": [
      "Python: list: 499851.09714094433 Čas vykonání: 0.0752 s\n",
      "Numpy: list: 499851.0971409523 Čas vykonání: 0.0018 s\n",
      "Rozdíl: 0.0734 s\n"
     ]
    }
   ],
   "source": [
    "import numpy as np\n",
    "import time\n",
    "\n",
    "def soucet_python(cisla):\n",
    "    return sum(cisla)\n",
    "\n",
    "def soucet_numpy(cisla):\n",
    "    return np.sum(cisla)\n",
    "\n",
    "cisla_np = np.random.rand(1000000)\n",
    "cisla_python = list(cisla_np)\n",
    "\n",
    "pocatecni_cas = time.time()\n",
    "vysledek_python = soucet_python(cisla_python)\n",
    "konecny_cas = time.time()\n",
    "cas_vypoctu_python = round(konecny_cas - pocatecni_cas, 4)\n",
    "print(f\"Python: list: {vysledek_python} Čas vykonání: {cas_vypoctu_python} s\")\n",
    "\n",
    "pocatecni_cas = time.time()\n",
    "vysledek_numpy = soucet_numpy(cisla_np)\n",
    "konecny_cas = time.time()\n",
    "cas_vypoctu_numpy = round(konecny_cas - pocatecni_cas, 4)\n",
    "print(f\"Numpy: list: {vysledek_numpy} Čas vykonání: {cas_vypoctu_numpy} s\")\n",
    "\n",
    "print(f\"Rozdíl: {round(abs(cas_vypoctu_numpy - cas_vypoctu_python), 4)} s\")"
   ]
  },
  {
   "attachments": {},
   "cell_type": "markdown",
   "metadata": {},
   "source": [
    "## Odmocnina"
   ]
  },
  {
   "cell_type": "code",
   "execution_count": 6,
   "metadata": {},
   "outputs": [
    {
     "name": "stdout",
     "output_type": "stream",
     "text": [
      "Python: První: 0.47932 Čas vykonání: 0.1425 s\n",
      "Numpy: První: 0.47932 Čas vykonání: 0.002 s\n",
      "Rozdíl: 0.1405 s\n"
     ]
    }
   ],
   "source": [
    "import numpy as np\n",
    "import math\n",
    "import time\n",
    "\n",
    "def sqrt_python(cisla):\n",
    "    list = []\n",
    "    for item in cisla:\n",
    "        list.append(item*item)\n",
    "    return list\n",
    "\n",
    "def sqrt_numpy(cisla):\n",
    "    return np.square(cisla)\n",
    "    \n",
    "\n",
    "size = 1000000\n",
    "cisla_np = np.random.rand(size)\n",
    "cisla_python = list(cisla_np)\n",
    "\n",
    "pocatecni_cas = time.time()\n",
    "vysledek_python = sqrt_python(cisla_python)\n",
    "konecny_cas = time.time()\n",
    "cas_vypoctu_python = round(konecny_cas - pocatecni_cas, 4)\n",
    "print(f\"Python: První: {round(vysledek_python[0], 5)} Čas vykonání: {cas_vypoctu_python} s\")\n",
    "\n",
    "pocatecni_cas = time.time()\n",
    "vysledek_numpy = sqrt_numpy(cisla_np)\n",
    "konecny_cas = time.time()\n",
    "cas_vypoctu_numpy = round(konecny_cas - pocatecni_cas, 4)\n",
    "print(f\"Numpy: První: {round(vysledek_numpy[0], 5)} Čas vykonání: {cas_vypoctu_numpy} s\")\n",
    "\n",
    "print(f\"Rozdíl: {round(abs(cas_vypoctu_numpy - cas_vypoctu_python), 4)} s\")"
   ]
  },
  {
   "attachments": {},
   "cell_type": "markdown",
   "metadata": {},
   "source": [
    "## Násobení matic"
   ]
  },
  {
   "cell_type": "code",
   "execution_count": 7,
   "metadata": {},
   "outputs": [
    {
     "name": "stdout",
     "output_type": "stream",
     "text": [
      "Python: Tvar matice: (250, 250) Čas vykonání: 8.2651 s\n",
      "Numpy: Tvar matice: (250, 250) Čas vykonání: 0.0 s\n",
      "Rozdíl: 8.2651 s\n"
     ]
    }
   ],
   "source": [
    "import numpy as np\n",
    "import time\n",
    "\n",
    "def nasobeni_matice_python(matice1, matice2):\n",
    "    vysledek = [[0 for x in range(len(matice2[0]))] for x in range(len(matice1))]\n",
    "    for i in range(len(matice1)):\n",
    "        for j in range(len(matice2[0])):\n",
    "            for k in range(len(matice2)):\n",
    "                vysledek[i][j] += matice1[i][k] * matice2[k][j]\n",
    "    return vysledek\n",
    "\n",
    "def nasobeni_matice_numpy(matice1, matice2):\n",
    "    return np.matmul(matice1, matice2)\n",
    "\n",
    "matice1_np = np.random.rand(250, 250)\n",
    "matice2_np = np.random.rand(250, 250)\n",
    "matice1_py = list(matice1_np)\n",
    "matice2_py = list(matice2_np)\n",
    "\n",
    "pocatecni_cas = time.time()\n",
    "vysledek_python = nasobeni_matice_python(matice1_py, matice2_py)\n",
    "konecny_cas = time.time()\n",
    "cas_vypoctu_python = round(konecny_cas - pocatecni_cas, 4)\n",
    "print(f\"Python: Tvar matice: {np.shape(vysledek_python)} Čas vykonání: {cas_vypoctu_python} s\")\n",
    "\n",
    "pocatecni_cas = time.time()\n",
    "vysledek_numpy = nasobeni_matice_numpy(matice1_np, matice2_np)\n",
    "konecny_cas = time.time()\n",
    "cas_vypoctu_numpy = round(konecny_cas - pocatecni_cas, 4)\n",
    "print(f\"Numpy: Tvar matice: {np.shape(vysledek_numpy)} Čas vykonání: {cas_vypoctu_numpy} s\")\n",
    "\n",
    "print(f\"Rozdíl: {round(abs(cas_vypoctu_numpy - cas_vypoctu_python), 4)} s\")"
   ]
  }
 ],
 "metadata": {
  "kernelspec": {
   "display_name": "Python 3",
   "language": "python",
   "name": "python3"
  },
  "language_info": {
   "codemirror_mode": {
    "name": "ipython",
    "version": 3
   },
   "file_extension": ".py",
   "mimetype": "text/x-python",
   "name": "python",
   "nbconvert_exporter": "python",
   "pygments_lexer": "ipython3",
   "version": "3.11.3"
  },
  "orig_nbformat": 4
 },
 "nbformat": 4,
 "nbformat_minor": 2
}
