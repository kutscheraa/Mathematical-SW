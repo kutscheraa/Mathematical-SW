{
 "cells": [
  {
   "attachments": {},
   "cell_type": "markdown",
   "metadata": {},
   "source": [
    "# 5. Hledání kořenů rovnice"
   ]
  },
  {
   "attachments": {},
   "cell_type": "markdown",
   "metadata": {},
   "source": [
    "## 5.0. Deklarace funkcí"
   ]
  },
  {
   "cell_type": "code",
   "execution_count": 1,
   "metadata": {},
   "outputs": [],
   "source": [
    "import numpy as np\n",
    "\n",
    "def polynomial_func(x):\n",
    "    return x**3 + 4*x**2 - 8\n",
    "\n",
    "def exponential_func(x):\n",
    "    return np.exp(x) - 2\n",
    "\n",
    "def harmonic_func(x):\n",
    "    return np.sin(x) + 0.5*x"
   ]
  },
  {
   "attachments": {},
   "cell_type": "markdown",
   "metadata": {},
   "source": [
    "## 5.1. Deklarace ohraničené a neohraničené metody"
   ]
  },
  {
   "cell_type": "code",
   "execution_count": 2,
   "metadata": {},
   "outputs": [],
   "source": [
    "from scipy.optimize import bisect, newton\n",
    "\n",
    "def find_root_bisection(func, a, b):\n",
    "    root = bisect(func, a, b)\n",
    "    return root\n",
    "\n",
    "def find_root_newton(func, x0):\n",
    "    root = newton(func, x0)\n",
    "    return root"
   ]
  },
  {
   "attachments": {},
   "cell_type": "markdown",
   "metadata": {},
   "source": [
    "## 5.2. Počáteční intervaly pro funkce"
   ]
  },
  {
   "cell_type": "code",
   "execution_count": 3,
   "metadata": {},
   "outputs": [],
   "source": [
    "# Interval pro polynom\n",
    "poly_interval = (-5, 5)\n",
    "\n",
    "# Interval pro exponenciální funkci\n",
    "exp_interval = (0, 10)\n",
    "\n",
    "# Interval pro harmonickou funkci\n",
    "harmonic_interval = (-5, 5)\n",
    "\n",
    "# Počáteční hodnota pro Newtonovu-Raphsonovu metodu\n",
    "newton_x0 = 1.5"
   ]
  },
  {
   "attachments": {},
   "cell_type": "markdown",
   "metadata": {},
   "source": [
    "## 5.3. Výsledek"
   ]
  },
  {
   "cell_type": "code",
   "execution_count": 4,
   "metadata": {},
   "outputs": [
    {
     "name": "stdout",
     "output_type": "stream",
     "text": [
      "Výsledek:  1.2360679774997898\n",
      "Kořen polynomu (bisekční metoda):              1.236067977500852 čas: 0.11715555191040039s odchylka 1.0622613899613498e-12\n",
      "Kořen polynomu (Newtonova metoda):             1.2360679774997898 čas: 0.277402400970459s odchylka 0.0\n",
      "\n",
      "Výsledek:  0.6931471805599453\n",
      "Kořen exponenciální funkce (bisekční metoda):  0.6931471805603451 čas: 0.19740080833435059s odchylka 3.9979131116751887e-13\n",
      "Kořen exponenciální funkce (Newtonova metoda): 0.693147180559946 čas: 0.3327975273132324s   odchylka 6.661338147750939e-16\n",
      "\n",
      "Výsledek:  0\n",
      "Kořen harmonické funkce (bisekční metoda):     0.0 čas: 0.013915061950683594s                   odchylka 0.0\n",
      "Kořen harmonické funkce (Newtonova metoda):    -4.543824632034784e-28 čas: 0.2841174602508545s odchylka 4.543824632034784e-28\n"
     ]
    }
   ],
   "source": [
    "import time\n",
    "\n",
    "iterc= 1000\n",
    "\n",
    "sol = -1+np.sqrt(5)\n",
    "print(\"Výsledek: \",sol)\n",
    "# Nalezení kořene polynomu\n",
    "start = time.time()\n",
    "for _ in range(iterc):\n",
    "    poly_root_bisection = find_root_bisection(polynomial_func, *poly_interval)\n",
    "print(f\"Kořen polynomu (bisekční metoda):              {poly_root_bisection} čas: {time.time()-start}s odchylka {abs(sol-abs(poly_root_bisection))}\")\n",
    "\n",
    "start = time.time()\n",
    "for _ in range(iterc):\n",
    "    poly_root_newton = find_root_newton(polynomial_func, newton_x0)\n",
    "print(f\"Kořen polynomu (Newtonova metoda):             {poly_root_newton} čas: {time.time()-start}s odchylka {abs(sol-abs(poly_root_newton))}\")\n",
    "\n",
    "print(\"\")\n",
    "\n",
    "sol = np.log(2)\n",
    "print(\"Výsledek: \",sol)\n",
    "# Nalezení kořene exponenciální funkce\n",
    "start = time.time()\n",
    "for _ in range(iterc):\n",
    "    exp_root_bisection = find_root_bisection(exponential_func, *exp_interval)\n",
    "print(f\"Kořen exponenciální funkce (bisekční metoda):  {exp_root_bisection} čas: {time.time()-start}s odchylka {abs(sol-abs(exp_root_bisection))}\")\n",
    "\n",
    "start = time.time()\n",
    "for _ in range(iterc):\n",
    "    exp_root_newton = find_root_newton(exponential_func, newton_x0)\n",
    "print(f\"Kořen exponenciální funkce (Newtonova metoda): {exp_root_newton} čas: {time.time()-start}s   odchylka {abs(sol-abs(exp_root_newton))}\")\n",
    "\n",
    "print(\"\")\n",
    "\n",
    "sol = 0\n",
    "print(\"Výsledek: \",sol)\n",
    "# Nalezení kořene harmonické funkce\n",
    "start = time.time()\n",
    "for _ in range(iterc):\n",
    "    harmonic_root_bisection = find_root_bisection(harmonic_func, *harmonic_interval)\n",
    "print(f\"Kořen harmonické funkce (bisekční metoda):     {harmonic_root_bisection} čas: {time.time()-start}s                   odchylka {abs(sol-abs(harmonic_root_bisection))}\")\n",
    "\n",
    "start = time.time()\n",
    "for _ in range(iterc):\n",
    "    harmonic_root_newton = find_root_newton(harmonic_func, newton_x0)\n",
    "print(f\"Kořen harmonické funkce (Newtonova metoda):    {harmonic_root_newton} čas: {time.time()-start}s odchylka {abs(sol-abs(harmonic_root_newton))}\")\n"
   ]
  }
 ],
 "metadata": {
  "kernelspec": {
   "display_name": "Python 3",
   "language": "python",
   "name": "python3"
  },
  "language_info": {
   "codemirror_mode": {
    "name": "ipython",
    "version": 3
   },
   "file_extension": ".py",
   "mimetype": "text/x-python",
   "name": "python",
   "nbconvert_exporter": "python",
   "pygments_lexer": "ipython3",
   "version": "3.11.3"
  },
  "orig_nbformat": 4
 },
 "nbformat": 4,
 "nbformat_minor": 2
}
