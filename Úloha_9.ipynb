{
 "cells": [
  {
   "attachments": {},
   "cell_type": "markdown",
   "metadata": {},
   "source": [
    "# 9. Integrace funkce jedné proměnné"
   ]
  },
  {
   "cell_type": "code",
   "execution_count": 1,
   "metadata": {},
   "outputs": [
    {
     "name": "stdout",
     "output_type": "stream",
     "text": [
      "Numerické výpočty Riemannovým integrálem:\n",
      "Polynom:  155.00000000000003\n",
      "Harmonická funkce:  0.7163378145367736\n",
      "Logaritmus:  5.750556815368329\n",
      "\n",
      "Porovnání s analytickým řešením:\n",
      "Polynom (analyticky):  180\n",
      "Harmonická funkce (analyticky):  0.7163378145367738\n",
      "Logaritmus (analyticky):  1.791759469228055\n"
     ]
    }
   ],
   "source": [
    "import numpy as np\n",
    "from scipy.integrate import quad\n",
    "\n",
    "def polynom(x):\n",
    "    return 3*x**2 + 2*x + 1\n",
    "\n",
    "def harmonicka(x):\n",
    "    return np.sin(x)\n",
    "\n",
    "def logaritmus(x):\n",
    "    return np.log(x + 1)\n",
    "\n",
    "\n",
    "a = 0  # Počátek intervalu\n",
    "b = 5  # Konec intervalu\n",
    "\n",
    "# Analytické řešení (pokud je možné)\n",
    "def analyticky_polynom(a, b):\n",
    "    return (b**3 - a**3) + 2*(b**2 - a**2) + (b - a)\n",
    "\n",
    "def analyticky_harmonicka(a, b):\n",
    "    return np.cos(a) - np.cos(b)\n",
    "\n",
    "def analyticky_logaritmus(a, b):\n",
    "    return np.log(b + 1) - np.log(a + 1)\n",
    "\n",
    "integral_polynom_riemann, _ = quad(polynom, a, b)\n",
    "integral_harmonicka_riemann, _ = quad(harmonicka, a, b)\n",
    "integral_logaritmus_riemann, _ = quad(logaritmus, a, b)\n",
    "\n",
    "print(\"Numerické výpočty Riemannovým integrálem:\")\n",
    "print(\"Polynom: \", integral_polynom_riemann)\n",
    "print(\"Harmonická funkce: \", integral_harmonicka_riemann)\n",
    "print(\"Logaritmus: \", integral_logaritmus_riemann)\n",
    "\n",
    "print(\"\\nPorovnání s analytickým řešením:\")\n",
    "print(\"Polynom (analyticky): \", analyticky_polynom(a, b))\n",
    "print(\"Harmonická funkce (analyticky): \", analyticky_harmonicka(a, b))\n",
    "print(\"Logaritmus (analyticky): \", analyticky_logaritmus(a, b))"
   ]
  }
 ],
 "metadata": {
  "kernelspec": {
   "display_name": "Python 3",
   "language": "python",
   "name": "python3"
  },
  "language_info": {
   "codemirror_mode": {
    "name": "ipython",
    "version": 3
   },
   "file_extension": ".py",
   "mimetype": "text/x-python",
   "name": "python",
   "nbconvert_exporter": "python",
   "pygments_lexer": "ipython3",
   "version": "3.11.3"
  },
  "orig_nbformat": 4
 },
 "nbformat": 4,
 "nbformat_minor": 2
}
